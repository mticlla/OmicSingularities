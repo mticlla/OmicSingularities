{
 "cells": [
  {
   "cell_type": "markdown",
   "metadata": {},
   "source": [
    "# **meta16S** : a containerized environment for 16S-rRNA-gene sequencing data analysis \n",
    "\n",
    "Author: Monica R. Ticlla"
   ]
  },
  {
   "cell_type": "markdown",
   "metadata": {},
   "source": [
    "## **Dependencies:**\n",
    "\n",
    "- Singularity 3.4.1"
   ]
  },
  {
   "cell_type": "code",
   "execution_count": 1,
   "metadata": {},
   "outputs": [
    {
     "name": "stdout",
     "output_type": "stream",
     "text": [
      "singularity version 3.4.1-1\n"
     ]
    }
   ],
   "source": [
    "!singularity --version"
   ]
  },
  {
   "cell_type": "markdown",
   "metadata": {},
   "source": [
    "## **Installed tools:**\n",
    "\n",
    "- QIIME2 V2019.7\n",
    "- ..."
   ]
  },
  {
   "cell_type": "code",
   "execution_count": 3,
   "metadata": {},
   "outputs": [
    {
     "name": "stdout",
     "output_type": "stream",
     "text": [
      "==apps==\n",
      "QIIME2\n",
      "\n"
     ]
    }
   ],
   "source": [
    "!singularity inspect --list-apps meta16S.sif"
   ]
  },
  {
   "cell_type": "markdown",
   "metadata": {},
   "source": [
    "## **Container usage:**\n",
    "\n",
    "- Download the container from SingularityHub (strongly recommended)\n",
    "```\n",
    "user@local_machine:> singularity pull --name meta16S.sif shub://mticlla/OmicSingularitites:meta16S\n",
    "```"
   ]
  },
  {
   "cell_type": "markdown",
   "metadata": {},
   "source": [
    "- or, build the container using the Singularity definition file:\n",
    "```\n",
    "user@local_machine:> sudo singularity build meta16S.sif ./Singularity.meta16S\n",
    "```"
   ]
  },
  {
   "cell_type": "markdown",
   "metadata": {},
   "source": [
    "- To get a list of available apps in the container:\n",
    "```\n",
    "user@local_machine:> singularity inspect --list-apps meta16S\n",
    "```"
   ]
  },
  {
   "cell_type": "markdown",
   "metadata": {},
   "source": [
    "## **Help**"
   ]
  },
  {
   "cell_type": "markdown",
   "metadata": {},
   "source": [
    "**Help for the container**"
   ]
  },
  {
   "cell_type": "code",
   "execution_count": 5,
   "metadata": {},
   "outputs": [
    {
     "name": "stdout",
     "output_type": "stream",
     "text": [
      "This image contains software for processing of 16S-rRNA gene sequencing data.\n",
      "It was built with CentOS 7 as base OS and Python 3.6.\n",
      "\n",
      "Usage:\n",
      "- To list available Apps:\n",
      "singularity apps <CONTAINER_PATH>\n",
      "- To get help for a particular APP:\n",
      "singularity help --app <APP_NAME> <CONTAINER_PATH>\n",
      "- To run a particular APP:\n",
      "singularity run --app <APP_NAME> <CONTAINER_PATH>\n",
      "\n",
      "\n"
     ]
    }
   ],
   "source": [
    "!singularity run-help meta16S.sif"
   ]
  },
  {
   "cell_type": "markdown",
   "metadata": {},
   "source": [
    "**Help for an app in the container**"
   ]
  },
  {
   "cell_type": "code",
   "execution_count": 6,
   "metadata": {},
   "outputs": [
    {
     "name": "stdout",
     "output_type": "stream",
     "text": [
      "  From [QIIME2 website](https://qiime2.org/)\n",
      "\n",
      "  QIIME 2TM is a next-generation microbiome bioinformatics platform that is\n",
      "  extensible, free, open source, and community developed.\n",
      "\n",
      "  USAGE:\n",
      "  Once the container has been built, QIIME2 commands/subcommands/plugins (e.g\n",
      "  qiime info) can be called in any of the following ways:\n",
      "\n",
      "  - Option 1: from inside the container\n",
      "  # you first need to run a shell within the container\n",
      "  user@my_machine:> singularity shell [shell options .e.g --writable] <container>\n",
      "  # Now inside the Singularity container\n",
      "  Singularity my_container:> source activate qiime2-2019.7\n",
      "  # call the qiime commands\n",
      "  Singularity container:> qiime --help\n",
      "\n",
      "  - Option 2: run it as SCIF app from outside the container\n",
      "  user@my_machine:> singularity run --app QIIME2 <CONTAINER_PATH>\n",
      "  or\n",
      "  user@my_machine:> singularity exec --app QIIME2 <CONTAINER_PATH> qiime\n"
     ]
    }
   ],
   "source": [
    "!singularity run-help --app QIIME2 meta16S.sif"
   ]
  },
  {
   "cell_type": "markdown",
   "metadata": {},
   "source": [
    "## **Tutorials**"
   ]
  },
  {
   "cell_type": "markdown",
   "metadata": {},
   "source": [
    "- [QIIME2](./tutorials/qiime2.ipynb)"
   ]
  }
 ],
 "metadata": {
  "kernelspec": {
   "display_name": "Python 3",
   "language": "python",
   "name": "python3"
  },
  "language_info": {
   "codemirror_mode": {
    "name": "ipython",
    "version": 3
   },
   "file_extension": ".py",
   "mimetype": "text/x-python",
   "name": "python",
   "nbconvert_exporter": "python",
   "pygments_lexer": "ipython3",
   "version": "3.6.0"
  }
 },
 "nbformat": 4,
 "nbformat_minor": 2
}
